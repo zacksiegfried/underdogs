{
 "cells": [
  {
   "cell_type": "code",
   "execution_count": 2,
   "metadata": {},
   "outputs": [],
   "source": [
    "import requests\n",
    "from bs4 import BeautifulSoup\n",
    "\n",
    "import sys\n",
    "sys.path.insert(0, '/Users/zacksiegfried/Documents/underdogs')\n",
    "from urlBuilder import DKbuild\n",
    "\n",
    "page = requests.get(DKbuild('football/ncaaf', '?category=game-lines&subcategory=game'))\n",
    "soup = BeautifulSoup(page.content, 'html5lib')\n",
    "\n",
    "#print(soup)"
   ]
  },
  {
   "cell_type": "code",
   "execution_count": null,
   "metadata": {},
   "outputs": [],
   "source": [
    "\n",
    "\n",
    "# function to group teams into their respective games\n",
    "def pairwise(list_data):\n",
    "    return list(zip(*[iter(list_data)] * 2))\n",
    "\n",
    "def gameSelector():\n",
    "\n",
    "    page = soup.find('div', class_ = 'sportsbook-offer-category-card')\n",
    "    info_list = page.find_all('tbody', class_ = 'sportsbook-table__body')\n",
    "\n",
    "    teams_list_raw = []\n",
    "    for event in info_list:\n",
    "        temp = event.find_all('tr')\n",
    "        teams_list_raw.append(temp)\n",
    "    teams_list = [item for sublist in teams_list_raw for item in sublist]\n",
    "\n",
    "    #bug check\n",
    "    for x in teams_list:\n",
    "        print(x)\n",
    "\n",
    "    # building list of indivdual game team names and odds\n",
    "    games_list = []\n",
    "    for i, j in pairwise(teams_list):\n",
    "\n",
    "        game_data = []\n",
    "        team1_data = {}\n",
    "        team2_data = {}\n",
    "\n",
    "        #bug check\n",
    "        print(i)\n",
    "        print(j)\n",
    "\n",
    "        team1_data['name'] = i.find('div', class_ = 'event-cell__name-text').text\n",
    "        team2_data['name'] = j.find('div', class_ = 'event-cell__name-text').text\n",
    "\n",
    "        team1_data['moneyline'] = i.find('span', class_ = 'sportsbook-odds american no-margin default-color').text\n",
    "        team2_data['moneyline'] = j.find('span', class_ = 'sportsbook-odds american no-margin default-color').text\n",
    "\n",
    "        game_data.append(team1_data)\n",
    "        game_data.append(team2_data)\n",
    "\n",
    "        games_list.append(game_data)\n",
    "        \n",
    "        #bug check\n",
    "        for x in games_list:\n",
    "            print(x)\n",
    "\n",
    "    #bug check\n",
    "    print(games_list)\n",
    "    \n",
    "\n",
    "gameSelector()"
   ]
  }
 ],
 "metadata": {
  "kernelspec": {
   "display_name": "base",
   "language": "python",
   "name": "python3"
  },
  "language_info": {
   "codemirror_mode": {
    "name": "ipython",
    "version": 3
   },
   "file_extension": ".py",
   "mimetype": "text/x-python",
   "name": "python",
   "nbconvert_exporter": "python",
   "pygments_lexer": "ipython3",
   "version": "3.9.16"
  },
  "orig_nbformat": 4
 },
 "nbformat": 4,
 "nbformat_minor": 2
}
