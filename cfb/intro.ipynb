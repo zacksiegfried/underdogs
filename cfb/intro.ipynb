{
 "cells": [
  {
   "cell_type": "code",
   "execution_count": null,
   "metadata": {},
   "outputs": [],
   "source": [
    "import requests\n",
    "from bs4 import BeautifulSoup\n",
    "\n",
    "import sys\n",
    "sys.path.insert(0, '/Users/zacksiegfried/Documents/underdogs')\n",
    "import urlBuilder\n",
    "import dkTools\n",
    "\n",
    "page = requests.get(urlBuilder.DKbuild('football/ncaaf', '?category=game-lines&subcategory=game'))\n",
    "soup = BeautifulSoup(page.content, 'html5lib')\n",
    "\n",
    "for x in dkTools.gameSelector(soup):\n",
    "    print(x)"
   ]
  }
 ],
 "metadata": {
  "kernelspec": {
   "display_name": "base",
   "language": "python",
   "name": "python3"
  },
  "language_info": {
   "codemirror_mode": {
    "name": "ipython",
    "version": 3
   },
   "file_extension": ".py",
   "mimetype": "text/x-python",
   "name": "python",
   "nbconvert_exporter": "python",
   "pygments_lexer": "ipython3",
   "version": "3.9.16"
  },
  "orig_nbformat": 4
 },
 "nbformat": 4,
 "nbformat_minor": 2
}
