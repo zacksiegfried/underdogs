{
 "cells": [
  {
   "cell_type": "code",
   "execution_count": 4,
   "metadata": {},
   "outputs": [],
   "source": [
    "import requests\n",
    "from bs4 import BeautifulSoup\n",
    "\n",
    "import sys\n",
    "sys.path.insert(0, '/Users/zacksiegfried/Documents/underdogs')\n",
    "from urlBuilder import DKbuild\n",
    "\n",
    "page = requests.get(DKbuild('football/ncaaf', '?category=game-lines&subcategory=game'))\n",
    "soup = BeautifulSoup(page.content, 'html5lib')\n",
    "\n",
    "#print(soup)"
   ]
  },
  {
   "cell_type": "code",
   "execution_count": 26,
   "metadata": {},
   "outputs": [
    {
     "name": "stdout",
     "output_type": "stream",
     "text": [
      "[[{'name': 'Navy', 'moneyline': '+800'}, {'name': 'Notre Dame', 'moneyline': '−1250'}], [{'name': 'UTEP', 'moneyline': '+110'}, {'name': 'Jacksonville State', 'moneyline': '−130'}], [{'name': 'Massachusetts', 'moneyline': '+280'}, {'name': 'New Mexico State', 'moneyline': '−340'}], [{'name': 'Ohio', 'moneyline': None}, {'name': 'San Diego State', 'moneyline': None}], [{'name': 'Hawaii', 'moneyline': '+700'}, {'name': 'Vanderbilt', 'moneyline': '−1050'}], [{'name': 'San Jose State', 'moneyline': None}, {'name': 'USC', 'moneyline': None}], [{'name': 'FIU', 'moneyline': '+290'}, {'name': 'Louisiana Tech', 'moneyline': '−350'}], [{'name': 'Kent State', 'moneyline': None}, {'name': 'UCF', 'moneyline': None}], [{'name': 'North Carolina State', 'moneyline': None}, {'name': 'UConn', 'moneyline': None}], [{'name': 'Nebraska', 'moneyline': None}, {'name': 'Minnesota', 'moneyline': None}], [{'name': 'Florida', 'moneyline': None}, {'name': 'Utah', 'moneyline': None}], [{'name': 'Miami OH', 'moneyline': None}, {'name': 'Miami FL', 'moneyline': None}], [{'name': 'Central Michigan', 'moneyline': None}, {'name': 'Michigan State', 'moneyline': None}], [{'name': 'Louisville', 'moneyline': None}, {'name': 'Georgia Tech', 'moneyline': None}], [{'name': 'Stanford', 'moneyline': None}, {'name': 'Hawaii', 'moneyline': None}], [{'name': 'Fresno State', 'moneyline': None}, {'name': 'Purdue', 'moneyline': None}], [{'name': 'Bowling Green', 'moneyline': None}, {'name': 'Liberty', 'moneyline': None}], [{'name': 'Louisiana Tech', 'moneyline': None}, {'name': 'SMU', 'moneyline': None}], [{'name': 'Ball State', 'moneyline': None}, {'name': 'Kentucky', 'moneyline': None}], [{'name': 'East Carolina', 'moneyline': None}, {'name': 'Michigan', 'moneyline': None}], [{'name': 'Colorado', 'moneyline': None}, {'name': 'TCU', 'moneyline': None}], [{'name': 'Utah State', 'moneyline': None}, {'name': 'Iowa', 'moneyline': None}], [{'name': 'Northern Illinois', 'moneyline': None}, {'name': 'Boston College', 'moneyline': None}], [{'name': 'Arkansas State', 'moneyline': None}, {'name': 'Oklahoma', 'moneyline': None}], [{'name': 'Virginia', 'moneyline': None}, {'name': 'Tennessee', 'moneyline': None}], [{'name': 'Akron', 'moneyline': None}, {'name': 'Temple', 'moneyline': None}], [{'name': 'Ohio State', 'moneyline': None}, {'name': 'Indiana', 'moneyline': None}], [{'name': 'Rice', 'moneyline': None}, {'name': 'Texas', 'moneyline': None}], [{'name': 'Buffalo', 'moneyline': None}, {'name': 'Wisconsin', 'moneyline': None}], [{'name': 'Boise State', 'moneyline': None}, {'name': 'Washington', 'moneyline': None}], [{'name': 'Massachusetts', 'moneyline': None}, {'name': 'Auburn', 'moneyline': None}], [{'name': 'South Florida', 'moneyline': None}, {'name': 'Western Kentucky', 'moneyline': None}], [{'name': 'California', 'moneyline': None}, {'name': 'North Texas', 'moneyline': None}], [{'name': 'Nevada', 'moneyline': None}, {'name': 'USC', 'moneyline': None}], [{'name': 'Army West Point', 'moneyline': None}, {'name': 'ULM', 'moneyline': None}], [{'name': 'Washington State', 'moneyline': None}, {'name': 'Colorado State', 'moneyline': None}], [{'name': 'Texas State', 'moneyline': None}, {'name': 'Baylor', 'moneyline': None}], [{'name': 'UTSA', 'moneyline': '−110'}, {'name': 'Houston', 'moneyline': '−110'}], [{'name': 'New Mexico', 'moneyline': None}, {'name': 'Texas A&M', 'moneyline': None}], [{'name': 'Texas Tech', 'moneyline': None}, {'name': 'Wyoming', 'moneyline': None}], [{'name': 'West Virginia', 'moneyline': None}, {'name': 'Penn State', 'moneyline': None}], [{'name': 'Middle Tennessee', 'moneyline': None}, {'name': 'Alabama', 'moneyline': None}], [{'name': 'Toledo', 'moneyline': None}, {'name': 'Illinois', 'moneyline': None}], [{'name': 'South Carolina', 'moneyline': None}, {'name': 'North Carolina', 'moneyline': None}], [{'name': 'Old Dominion', 'moneyline': None}, {'name': 'Virginia Tech', 'moneyline': None}], [{'name': 'South Alabama', 'moneyline': None}, {'name': 'Tulane', 'moneyline': None}], [{'name': 'Sam Houston', 'moneyline': None}, {'name': 'BYU', 'moneyline': None}], [{'name': 'Coastal Carolina', 'moneyline': None}, {'name': 'UCLA', 'moneyline': None}], [{'name': 'Northwestern', 'moneyline': None}, {'name': 'Rutgers', 'moneyline': None}], [{'name': 'Oregon State', 'moneyline': None}, {'name': 'San Jose State', 'moneyline': None}], [{'name': 'LSU', 'moneyline': None}, {'name': 'Florida State', 'moneyline': None}], [{'name': 'Clemson', 'moneyline': None}, {'name': 'Duke', 'moneyline': None}], [{'name': 'Texas A&M', 'moneyline': None}, {'name': 'Miami FL', 'moneyline': None}], [{'name': 'Texas', 'moneyline': None}, {'name': 'Alabama', 'moneyline': None}], [{'name': 'Washington', 'moneyline': None}, {'name': 'Michigan State', 'moneyline': None}], [{'name': 'Tennessee', 'moneyline': None}, {'name': 'Florida', 'moneyline': None}], [{'name': 'South Carolina', 'moneyline': None}, {'name': 'Georgia', 'moneyline': None}], [{'name': 'LSU', 'moneyline': None}, {'name': 'Mississippi State', 'moneyline': None}], [{'name': 'Ole Miss', 'moneyline': None}, {'name': 'Alabama', 'moneyline': None}], [{'name': 'Texas', 'moneyline': None}, {'name': 'Baylor', 'moneyline': None}], [{'name': 'Florida State', 'moneyline': None}, {'name': 'Clemson', 'moneyline': None}], [{'name': 'Ohio State', 'moneyline': None}, {'name': 'Notre Dame', 'moneyline': None}], [{'name': 'Arkansas', 'moneyline': None}, {'name': 'LSU', 'moneyline': None}], [{'name': 'UCLA', 'moneyline': None}, {'name': 'Utah', 'moneyline': None}], [{'name': 'Michigan', 'moneyline': None}, {'name': 'Nebraska', 'moneyline': None}], [{'name': 'South Carolina', 'moneyline': None}, {'name': 'Tennessee', 'moneyline': None}], [{'name': 'Georgia', 'moneyline': None}, {'name': 'Auburn', 'moneyline': None}], [{'name': 'Kansas', 'moneyline': None}, {'name': 'Texas', 'moneyline': None}], [{'name': 'Texas A&M', 'moneyline': None}, {'name': 'Arkansas', 'moneyline': None}], [{'name': 'LSU', 'moneyline': None}, {'name': 'Ole Miss', 'moneyline': None}], [{'name': 'Alabama', 'moneyline': None}, {'name': 'Texas A&M', 'moneyline': None}], [{'name': 'Texas', 'moneyline': None}, {'name': 'Oklahoma', 'moneyline': None}], [{'name': 'USC', 'moneyline': None}, {'name': 'Notre Dame', 'moneyline': None}], [{'name': 'Auburn', 'moneyline': None}, {'name': 'LSU', 'moneyline': None}], [{'name': 'Oregon', 'moneyline': None}, {'name': 'Washington', 'moneyline': None}], [{'name': 'Arkansas', 'moneyline': None}, {'name': 'Alabama', 'moneyline': None}], [{'name': 'Texas A&M', 'moneyline': None}, {'name': 'Tennessee', 'moneyline': None}], [{'name': 'TCU', 'moneyline': None}, {'name': 'Kansas State', 'moneyline': None}], [{'name': 'Michigan', 'moneyline': None}, {'name': 'Michigan State', 'moneyline': None}], [{'name': 'Clemson', 'moneyline': None}, {'name': 'Miami FL', 'moneyline': None}], [{'name': 'Utah', 'moneyline': None}, {'name': 'USC', 'moneyline': None}], [{'name': 'Penn State', 'moneyline': None}, {'name': 'Ohio State', 'moneyline': None}], [{'name': 'Tennessee', 'moneyline': None}, {'name': 'Alabama', 'moneyline': None}], [{'name': 'Oklahoma', 'moneyline': None}, {'name': 'Kansas', 'moneyline': None}], [{'name': 'Ohio State', 'moneyline': None}, {'name': 'Wisconsin', 'moneyline': None}], [{'name': 'Oregon', 'moneyline': None}, {'name': 'Utah', 'moneyline': None}], [{'name': 'Clemson', 'moneyline': None}, {'name': 'North Carolina State', 'moneyline': None}], [{'name': 'Georgia', 'moneyline': None}, {'name': 'Florida', 'moneyline': None}], [{'name': 'Texas A&M', 'moneyline': None}, {'name': 'Ole Miss', 'moneyline': None}], [{'name': 'Washington', 'moneyline': None}, {'name': 'USC', 'moneyline': None}], [{'name': 'Kansas State', 'moneyline': None}, {'name': 'Texas', 'moneyline': None}], [{'name': 'Oklahoma', 'moneyline': None}, {'name': 'Oklahoma State', 'moneyline': None}], [{'name': 'Notre Dame', 'moneyline': None}, {'name': 'Clemson', 'moneyline': None}], [{'name': 'LSU', 'moneyline': None}, {'name': 'Alabama', 'moneyline': None}], [{'name': 'Texas', 'moneyline': None}, {'name': 'TCU', 'moneyline': None}], [{'name': 'USC', 'moneyline': None}, {'name': 'Oregon', 'moneyline': None}], [{'name': 'Michigan State', 'moneyline': None}, {'name': 'Ohio State', 'moneyline': None}], [{'name': 'Utah', 'moneyline': None}, {'name': 'Washington', 'moneyline': None}], [{'name': 'Ole Miss', 'moneyline': None}, {'name': 'Georgia', 'moneyline': None}], [{'name': 'Miami FL', 'moneyline': None}, {'name': 'Florida State', 'moneyline': None}], [{'name': 'Florida', 'moneyline': None}, {'name': 'LSU', 'moneyline': None}], [{'name': 'Michigan', 'moneyline': None}, {'name': 'Penn State', 'moneyline': None}], [{'name': 'Duke', 'moneyline': None}, {'name': 'North Carolina', 'moneyline': None}], [{'name': 'UCLA', 'moneyline': None}, {'name': 'USC', 'moneyline': None}], [{'name': 'Kansas State', 'moneyline': None}, {'name': 'Kansas', 'moneyline': None}], [{'name': 'Georgia', 'moneyline': None}, {'name': 'Tennessee', 'moneyline': None}], [{'name': 'North Carolina', 'moneyline': None}, {'name': 'Clemson', 'moneyline': None}], [{'name': 'Baylor', 'moneyline': None}, {'name': 'TCU', 'moneyline': None}], [{'name': 'Ole Miss', 'moneyline': None}, {'name': 'Mississippi State', 'moneyline': None}], [{'name': 'Oregon State', 'moneyline': None}, {'name': 'Oregon', 'moneyline': None}], [{'name': 'TCU', 'moneyline': None}, {'name': 'Oklahoma', 'moneyline': None}], [{'name': 'Penn State', 'moneyline': None}, {'name': 'Michigan State', 'moneyline': None}], [{'name': 'Clemson', 'moneyline': None}, {'name': 'South Carolina', 'moneyline': None}], [{'name': 'Texas A&M', 'moneyline': None}, {'name': 'LSU', 'moneyline': None}], [{'name': 'Alabama', 'moneyline': None}, {'name': 'Auburn', 'moneyline': None}], [{'name': 'Florida State', 'moneyline': None}, {'name': 'Florida', 'moneyline': None}], [{'name': 'Ohio State', 'moneyline': None}, {'name': 'Michigan', 'moneyline': None}], [{'name': 'North Carolina', 'moneyline': None}, {'name': 'North Carolina State', 'moneyline': None}]]\n"
     ]
    }
   ],
   "source": [
    "\n",
    "\n",
    "# function to group teams into their respective games\n",
    "def pairwise(list_data):\n",
    "    return list(zip(*[iter(list_data)] * 2))\n",
    "\n",
    "\n",
    "### Returns a list of lists with elements containing match up information. This is in the form of a dictionary with team:\n",
    "# {'name': , 'moneyline: '}         # could extract more info\n",
    "\n",
    "def gameSelector(soup):\n",
    "\n",
    "    page = soup.find('div', class_ = 'sportsbook-offer-category-card')\n",
    "    info_list = page.find_all('tbody', class_ = 'sportsbook-table__body')\n",
    "\n",
    "    teams_list_raw = []\n",
    "    for event in info_list:\n",
    "        temp = event.find_all('tr')\n",
    "        teams_list_raw.append(temp)\n",
    "    teams_list = [item for sublist in teams_list_raw for item in sublist]\n",
    "\n",
    "\n",
    "    # building list of indivdual game team names and odds\n",
    "    games_list = []\n",
    "    for i, j in pairwise(teams_list):\n",
    "\n",
    "        game_data = []\n",
    "        team1_data = {}\n",
    "        team2_data = {}\n",
    "\n",
    "\n",
    "        # extracting data for information that is always present (team name, )\n",
    "        team1_data['name'] = i.find('div', class_ = 'event-cell__name-text').text\n",
    "        team2_data['name'] = j.find('div', class_ = 'event-cell__name-text').text\n",
    "\n",
    "        # extracting data for information that can be missing (odds, )\n",
    "        team1_data['moneyline'] = i.find('span', class_ = 'sportsbook-odds american no-margin default-color')   \n",
    "        team2_data['moneyline'] = j.find('span', class_ = 'sportsbook-odds american no-margin default-color')\n",
    "\n",
    "\n",
    "        game_data.append(team1_data)\n",
    "        game_data.append(team2_data)\n",
    "\n",
    "        # extracting raw numerical value from bs4 object\n",
    "        for team in game_data:\n",
    "            if team['moneyline'] != None:\n",
    "                team['moneyline'] = team['moneyline'].text\n",
    "\n",
    "\n",
    "        games_list.append(game_data)\n",
    "\n",
    "\n",
    "    #bug check\n",
    "    #for x in games_list:\n",
    "        #print(x)\n",
    "\n",
    "    return(games_list)\n",
    "    \n",
    "\n",
    "print(gameSelector(soup))"
   ]
  }
 ],
 "metadata": {
  "kernelspec": {
   "display_name": "base",
   "language": "python",
   "name": "python3"
  },
  "language_info": {
   "codemirror_mode": {
    "name": "ipython",
    "version": 3
   },
   "file_extension": ".py",
   "mimetype": "text/x-python",
   "name": "python",
   "nbconvert_exporter": "python",
   "pygments_lexer": "ipython3",
   "version": "3.9.16"
  },
  "orig_nbformat": 4
 },
 "nbformat": 4,
 "nbformat_minor": 2
}
